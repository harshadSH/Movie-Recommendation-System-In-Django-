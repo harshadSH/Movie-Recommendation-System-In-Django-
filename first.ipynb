{
 "cells": [
  {
   "cell_type": "code",
   "execution_count": 3,
   "id": "initial_id",
   "metadata": {
    "collapsed": true,
    "ExecuteTime": {
     "end_time": "2024-09-05T19:39:20.248158200Z",
     "start_time": "2024-09-05T19:39:19.333504100Z"
    }
   },
   "outputs": [],
   "source": [
    "import numpy as np\n",
    "import pandas as pd"
   ]
  },
  {
   "cell_type": "code",
   "outputs": [],
   "source": [
    "movie = pd.read_csv('tmdb_5000_movies.csv')\n",
    "credits = pd.read_csv('tmdb_5000_credits.csv')"
   ],
   "metadata": {
    "collapsed": false,
    "ExecuteTime": {
     "end_time": "2024-09-05T19:39:20.957181Z",
     "start_time": "2024-09-05T19:39:20.248158200Z"
    }
   },
   "id": "f6495208f61d80ad",
   "execution_count": 4
  },
  {
   "cell_type": "code",
   "outputs": [
    {
     "data": {
      "text/plain": "      movie_id                                     title  \\\n0        19995                                    Avatar   \n1          285  Pirates of the Caribbean: At World's End   \n2       206647                                   Spectre   \n3        49026                     The Dark Knight Rises   \n4        49529                               John Carter   \n...        ...                                       ...   \n4798      9367                               El Mariachi   \n4799     72766                                 Newlyweds   \n4800    231617                 Signed, Sealed, Delivered   \n4801    126186                          Shanghai Calling   \n4802     25975                         My Date with Drew   \n\n                                                   cast  \\\n0     [{\"cast_id\": 242, \"character\": \"Jake Sully\", \"...   \n1     [{\"cast_id\": 4, \"character\": \"Captain Jack Spa...   \n2     [{\"cast_id\": 1, \"character\": \"James Bond\", \"cr...   \n3     [{\"cast_id\": 2, \"character\": \"Bruce Wayne / Ba...   \n4     [{\"cast_id\": 5, \"character\": \"John Carter\", \"c...   \n...                                                 ...   \n4798  [{\"cast_id\": 1, \"character\": \"El Mariachi\", \"c...   \n4799  [{\"cast_id\": 1, \"character\": \"Buzzy\", \"credit_...   \n4800  [{\"cast_id\": 8, \"character\": \"Oliver O\\u2019To...   \n4801  [{\"cast_id\": 3, \"character\": \"Sam\", \"credit_id...   \n4802  [{\"cast_id\": 3, \"character\": \"Herself\", \"credi...   \n\n                                                   crew  \n0     [{\"credit_id\": \"52fe48009251416c750aca23\", \"de...  \n1     [{\"credit_id\": \"52fe4232c3a36847f800b579\", \"de...  \n2     [{\"credit_id\": \"54805967c3a36829b5002c41\", \"de...  \n3     [{\"credit_id\": \"52fe4781c3a36847f81398c3\", \"de...  \n4     [{\"credit_id\": \"52fe479ac3a36847f813eaa3\", \"de...  \n...                                                 ...  \n4798  [{\"credit_id\": \"52fe44eec3a36847f80b280b\", \"de...  \n4799  [{\"credit_id\": \"52fe487dc3a368484e0fb013\", \"de...  \n4800  [{\"credit_id\": \"52fe4df3c3a36847f8275ecf\", \"de...  \n4801  [{\"credit_id\": \"52fe4ad9c3a368484e16a36b\", \"de...  \n4802  [{\"credit_id\": \"58ce021b9251415a390165d9\", \"de...  \n\n[4803 rows x 4 columns]",
      "text/html": "<div>\n<style scoped>\n    .dataframe tbody tr th:only-of-type {\n        vertical-align: middle;\n    }\n\n    .dataframe tbody tr th {\n        vertical-align: top;\n    }\n\n    .dataframe thead th {\n        text-align: right;\n    }\n</style>\n<table border=\"1\" class=\"dataframe\">\n  <thead>\n    <tr style=\"text-align: right;\">\n      <th></th>\n      <th>movie_id</th>\n      <th>title</th>\n      <th>cast</th>\n      <th>crew</th>\n    </tr>\n  </thead>\n  <tbody>\n    <tr>\n      <th>0</th>\n      <td>19995</td>\n      <td>Avatar</td>\n      <td>[{\"cast_id\": 242, \"character\": \"Jake Sully\", \"...</td>\n      <td>[{\"credit_id\": \"52fe48009251416c750aca23\", \"de...</td>\n    </tr>\n    <tr>\n      <th>1</th>\n      <td>285</td>\n      <td>Pirates of the Caribbean: At World's End</td>\n      <td>[{\"cast_id\": 4, \"character\": \"Captain Jack Spa...</td>\n      <td>[{\"credit_id\": \"52fe4232c3a36847f800b579\", \"de...</td>\n    </tr>\n    <tr>\n      <th>2</th>\n      <td>206647</td>\n      <td>Spectre</td>\n      <td>[{\"cast_id\": 1, \"character\": \"James Bond\", \"cr...</td>\n      <td>[{\"credit_id\": \"54805967c3a36829b5002c41\", \"de...</td>\n    </tr>\n    <tr>\n      <th>3</th>\n      <td>49026</td>\n      <td>The Dark Knight Rises</td>\n      <td>[{\"cast_id\": 2, \"character\": \"Bruce Wayne / Ba...</td>\n      <td>[{\"credit_id\": \"52fe4781c3a36847f81398c3\", \"de...</td>\n    </tr>\n    <tr>\n      <th>4</th>\n      <td>49529</td>\n      <td>John Carter</td>\n      <td>[{\"cast_id\": 5, \"character\": \"John Carter\", \"c...</td>\n      <td>[{\"credit_id\": \"52fe479ac3a36847f813eaa3\", \"de...</td>\n    </tr>\n    <tr>\n      <th>...</th>\n      <td>...</td>\n      <td>...</td>\n      <td>...</td>\n      <td>...</td>\n    </tr>\n    <tr>\n      <th>4798</th>\n      <td>9367</td>\n      <td>El Mariachi</td>\n      <td>[{\"cast_id\": 1, \"character\": \"El Mariachi\", \"c...</td>\n      <td>[{\"credit_id\": \"52fe44eec3a36847f80b280b\", \"de...</td>\n    </tr>\n    <tr>\n      <th>4799</th>\n      <td>72766</td>\n      <td>Newlyweds</td>\n      <td>[{\"cast_id\": 1, \"character\": \"Buzzy\", \"credit_...</td>\n      <td>[{\"credit_id\": \"52fe487dc3a368484e0fb013\", \"de...</td>\n    </tr>\n    <tr>\n      <th>4800</th>\n      <td>231617</td>\n      <td>Signed, Sealed, Delivered</td>\n      <td>[{\"cast_id\": 8, \"character\": \"Oliver O\\u2019To...</td>\n      <td>[{\"credit_id\": \"52fe4df3c3a36847f8275ecf\", \"de...</td>\n    </tr>\n    <tr>\n      <th>4801</th>\n      <td>126186</td>\n      <td>Shanghai Calling</td>\n      <td>[{\"cast_id\": 3, \"character\": \"Sam\", \"credit_id...</td>\n      <td>[{\"credit_id\": \"52fe4ad9c3a368484e16a36b\", \"de...</td>\n    </tr>\n    <tr>\n      <th>4802</th>\n      <td>25975</td>\n      <td>My Date with Drew</td>\n      <td>[{\"cast_id\": 3, \"character\": \"Herself\", \"credi...</td>\n      <td>[{\"credit_id\": \"58ce021b9251415a390165d9\", \"de...</td>\n    </tr>\n  </tbody>\n</table>\n<p>4803 rows × 4 columns</p>\n</div>"
     },
     "execution_count": 5,
     "metadata": {},
     "output_type": "execute_result"
    }
   ],
   "source": [
    "credits"
   ],
   "metadata": {
    "collapsed": false,
    "ExecuteTime": {
     "end_time": "2024-09-05T19:39:20.966935400Z",
     "start_time": "2024-09-05T19:39:20.932918500Z"
    }
   },
   "id": "e7a4db68e18f0fe1",
   "execution_count": 5
  },
  {
   "cell_type": "code",
   "outputs": [],
   "source": [
    "merge_movies = movie.merge(credits, on='title')"
   ],
   "metadata": {
    "collapsed": false,
    "ExecuteTime": {
     "end_time": "2024-09-05T19:39:21.047362700Z",
     "start_time": "2024-09-05T19:39:20.968117100Z"
    }
   },
   "id": "cf57d8e245c527dc",
   "execution_count": 6
  },
  {
   "cell_type": "code",
   "outputs": [
    {
     "data": {
      "text/plain": "         budget                                             genres  \\\n0     237000000  [{\"id\": 28, \"name\": \"Action\"}, {\"id\": 12, \"nam...   \n1     300000000  [{\"id\": 12, \"name\": \"Adventure\"}, {\"id\": 14, \"...   \n2     245000000  [{\"id\": 28, \"name\": \"Action\"}, {\"id\": 12, \"nam...   \n3     250000000  [{\"id\": 28, \"name\": \"Action\"}, {\"id\": 80, \"nam...   \n4     260000000  [{\"id\": 28, \"name\": \"Action\"}, {\"id\": 12, \"nam...   \n...         ...                                                ...   \n4803     220000  [{\"id\": 28, \"name\": \"Action\"}, {\"id\": 80, \"nam...   \n4804       9000  [{\"id\": 35, \"name\": \"Comedy\"}, {\"id\": 10749, \"...   \n4805          0  [{\"id\": 35, \"name\": \"Comedy\"}, {\"id\": 18, \"nam...   \n4806          0                                                 []   \n4807          0                [{\"id\": 99, \"name\": \"Documentary\"}]   \n\n                                               homepage      id  \\\n0                           http://www.avatarmovie.com/   19995   \n1          http://disney.go.com/disneypictures/pirates/     285   \n2           http://www.sonypictures.com/movies/spectre/  206647   \n3                    http://www.thedarkknightrises.com/   49026   \n4                  http://movies.disney.com/john-carter   49529   \n...                                                 ...     ...   \n4803                                                NaN    9367   \n4804                                                NaN   72766   \n4805  http://www.hallmarkchannel.com/signedsealeddel...  231617   \n4806                        http://shanghaicalling.com/  126186   \n4807                                                NaN   25975   \n\n                                               keywords original_language  \\\n0     [{\"id\": 1463, \"name\": \"culture clash\"}, {\"id\":...                en   \n1     [{\"id\": 270, \"name\": \"ocean\"}, {\"id\": 726, \"na...                en   \n2     [{\"id\": 470, \"name\": \"spy\"}, {\"id\": 818, \"name...                en   \n3     [{\"id\": 849, \"name\": \"dc comics\"}, {\"id\": 853,...                en   \n4     [{\"id\": 818, \"name\": \"based on novel\"}, {\"id\":...                en   \n...                                                 ...               ...   \n4803  [{\"id\": 5616, \"name\": \"united states\\u2013mexi...                es   \n4804                                                 []                en   \n4805  [{\"id\": 248, \"name\": \"date\"}, {\"id\": 699, \"nam...                en   \n4806                                                 []                en   \n4807  [{\"id\": 1523, \"name\": \"obsession\"}, {\"id\": 224...                en   \n\n                                original_title  \\\n0                                       Avatar   \n1     Pirates of the Caribbean: At World's End   \n2                                      Spectre   \n3                        The Dark Knight Rises   \n4                                  John Carter   \n...                                        ...   \n4803                               El Mariachi   \n4804                                 Newlyweds   \n4805                 Signed, Sealed, Delivered   \n4806                          Shanghai Calling   \n4807                         My Date with Drew   \n\n                                               overview  popularity  \\\n0     In the 22nd century, a paraplegic Marine is di...  150.437577   \n1     Captain Barbossa, long believed to be dead, ha...  139.082615   \n2     A cryptic message from Bond’s past sends him o...  107.376788   \n3     Following the death of District Attorney Harve...  112.312950   \n4     John Carter is a war-weary, former military ca...   43.926995   \n...                                                 ...         ...   \n4803  El Mariachi just wants to play his guitar and ...   14.269792   \n4804  A newlywed couple's honeymoon is upended by th...    0.642552   \n4805  \"Signed, Sealed, Delivered\" introduces a dedic...    1.444476   \n4806  When ambitious New York attorney Sam is sent t...    0.857008   \n4807  Ever since the second grade when he first saw ...    1.929883   \n\n                                   production_companies  ... runtime  \\\n0     [{\"name\": \"Ingenious Film Partners\", \"id\": 289...  ...   162.0   \n1     [{\"name\": \"Walt Disney Pictures\", \"id\": 2}, {\"...  ...   169.0   \n2     [{\"name\": \"Columbia Pictures\", \"id\": 5}, {\"nam...  ...   148.0   \n3     [{\"name\": \"Legendary Pictures\", \"id\": 923}, {\"...  ...   165.0   \n4           [{\"name\": \"Walt Disney Pictures\", \"id\": 2}]  ...   132.0   \n...                                                 ...  ...     ...   \n4803           [{\"name\": \"Columbia Pictures\", \"id\": 5}]  ...    81.0   \n4804                                                 []  ...    85.0   \n4805  [{\"name\": \"Front Street Pictures\", \"id\": 3958}...  ...   120.0   \n4806                                                 []  ...    98.0   \n4807  [{\"name\": \"rusty bear entertainment\", \"id\": 87...  ...    90.0   \n\n                                       spoken_languages    status  \\\n0     [{\"iso_639_1\": \"en\", \"name\": \"English\"}, {\"iso...  Released   \n1              [{\"iso_639_1\": \"en\", \"name\": \"English\"}]  Released   \n2     [{\"iso_639_1\": \"fr\", \"name\": \"Fran\\u00e7ais\"},...  Released   \n3              [{\"iso_639_1\": \"en\", \"name\": \"English\"}]  Released   \n4              [{\"iso_639_1\": \"en\", \"name\": \"English\"}]  Released   \n...                                                 ...       ...   \n4803      [{\"iso_639_1\": \"es\", \"name\": \"Espa\\u00f1ol\"}]  Released   \n4804                                                 []  Released   \n4805           [{\"iso_639_1\": \"en\", \"name\": \"English\"}]  Released   \n4806           [{\"iso_639_1\": \"en\", \"name\": \"English\"}]  Released   \n4807           [{\"iso_639_1\": \"en\", \"name\": \"English\"}]  Released   \n\n                                                tagline  \\\n0                           Enter the World of Pandora.   \n1        At the end of the world, the adventure begins.   \n2                                 A Plan No One Escapes   \n3                                       The Legend Ends   \n4                  Lost in our world, found in another.   \n...                                                 ...   \n4803  He didn't come looking for trouble, but troubl...   \n4804  A newlywed couple's honeymoon is upended by th...   \n4805                                                NaN   \n4806                           A New Yorker in Shanghai   \n4807                                                NaN   \n\n                                         title vote_average vote_count  \\\n0                                       Avatar          7.2      11800   \n1     Pirates of the Caribbean: At World's End          6.9       4500   \n2                                      Spectre          6.3       4466   \n3                        The Dark Knight Rises          7.6       9106   \n4                                  John Carter          6.1       2124   \n...                                        ...          ...        ...   \n4803                               El Mariachi          6.6        238   \n4804                                 Newlyweds          5.9          5   \n4805                 Signed, Sealed, Delivered          7.0          6   \n4806                          Shanghai Calling          5.7          7   \n4807                         My Date with Drew          6.3         16   \n\n     movie_id                                               cast  \\\n0       19995  [{\"cast_id\": 242, \"character\": \"Jake Sully\", \"...   \n1         285  [{\"cast_id\": 4, \"character\": \"Captain Jack Spa...   \n2      206647  [{\"cast_id\": 1, \"character\": \"James Bond\", \"cr...   \n3       49026  [{\"cast_id\": 2, \"character\": \"Bruce Wayne / Ba...   \n4       49529  [{\"cast_id\": 5, \"character\": \"John Carter\", \"c...   \n...       ...                                                ...   \n4803     9367  [{\"cast_id\": 1, \"character\": \"El Mariachi\", \"c...   \n4804    72766  [{\"cast_id\": 1, \"character\": \"Buzzy\", \"credit_...   \n4805   231617  [{\"cast_id\": 8, \"character\": \"Oliver O\\u2019To...   \n4806   126186  [{\"cast_id\": 3, \"character\": \"Sam\", \"credit_id...   \n4807    25975  [{\"cast_id\": 3, \"character\": \"Herself\", \"credi...   \n\n                                                   crew  \n0     [{\"credit_id\": \"52fe48009251416c750aca23\", \"de...  \n1     [{\"credit_id\": \"52fe4232c3a36847f800b579\", \"de...  \n2     [{\"credit_id\": \"54805967c3a36829b5002c41\", \"de...  \n3     [{\"credit_id\": \"52fe4781c3a36847f81398c3\", \"de...  \n4     [{\"credit_id\": \"52fe479ac3a36847f813eaa3\", \"de...  \n...                                                 ...  \n4803  [{\"credit_id\": \"52fe44eec3a36847f80b280b\", \"de...  \n4804  [{\"credit_id\": \"52fe487dc3a368484e0fb013\", \"de...  \n4805  [{\"credit_id\": \"52fe4df3c3a36847f8275ecf\", \"de...  \n4806  [{\"credit_id\": \"52fe4ad9c3a368484e16a36b\", \"de...  \n4807  [{\"credit_id\": \"58ce021b9251415a390165d9\", \"de...  \n\n[4808 rows x 23 columns]",
      "text/html": "<div>\n<style scoped>\n    .dataframe tbody tr th:only-of-type {\n        vertical-align: middle;\n    }\n\n    .dataframe tbody tr th {\n        vertical-align: top;\n    }\n\n    .dataframe thead th {\n        text-align: right;\n    }\n</style>\n<table border=\"1\" class=\"dataframe\">\n  <thead>\n    <tr style=\"text-align: right;\">\n      <th></th>\n      <th>budget</th>\n      <th>genres</th>\n      <th>homepage</th>\n      <th>id</th>\n      <th>keywords</th>\n      <th>original_language</th>\n      <th>original_title</th>\n      <th>overview</th>\n      <th>popularity</th>\n      <th>production_companies</th>\n      <th>...</th>\n      <th>runtime</th>\n      <th>spoken_languages</th>\n      <th>status</th>\n      <th>tagline</th>\n      <th>title</th>\n      <th>vote_average</th>\n      <th>vote_count</th>\n      <th>movie_id</th>\n      <th>cast</th>\n      <th>crew</th>\n    </tr>\n  </thead>\n  <tbody>\n    <tr>\n      <th>0</th>\n      <td>237000000</td>\n      <td>[{\"id\": 28, \"name\": \"Action\"}, {\"id\": 12, \"nam...</td>\n      <td>http://www.avatarmovie.com/</td>\n      <td>19995</td>\n      <td>[{\"id\": 1463, \"name\": \"culture clash\"}, {\"id\":...</td>\n      <td>en</td>\n      <td>Avatar</td>\n      <td>In the 22nd century, a paraplegic Marine is di...</td>\n      <td>150.437577</td>\n      <td>[{\"name\": \"Ingenious Film Partners\", \"id\": 289...</td>\n      <td>...</td>\n      <td>162.0</td>\n      <td>[{\"iso_639_1\": \"en\", \"name\": \"English\"}, {\"iso...</td>\n      <td>Released</td>\n      <td>Enter the World of Pandora.</td>\n      <td>Avatar</td>\n      <td>7.2</td>\n      <td>11800</td>\n      <td>19995</td>\n      <td>[{\"cast_id\": 242, \"character\": \"Jake Sully\", \"...</td>\n      <td>[{\"credit_id\": \"52fe48009251416c750aca23\", \"de...</td>\n    </tr>\n    <tr>\n      <th>1</th>\n      <td>300000000</td>\n      <td>[{\"id\": 12, \"name\": \"Adventure\"}, {\"id\": 14, \"...</td>\n      <td>http://disney.go.com/disneypictures/pirates/</td>\n      <td>285</td>\n      <td>[{\"id\": 270, \"name\": \"ocean\"}, {\"id\": 726, \"na...</td>\n      <td>en</td>\n      <td>Pirates of the Caribbean: At World's End</td>\n      <td>Captain Barbossa, long believed to be dead, ha...</td>\n      <td>139.082615</td>\n      <td>[{\"name\": \"Walt Disney Pictures\", \"id\": 2}, {\"...</td>\n      <td>...</td>\n      <td>169.0</td>\n      <td>[{\"iso_639_1\": \"en\", \"name\": \"English\"}]</td>\n      <td>Released</td>\n      <td>At the end of the world, the adventure begins.</td>\n      <td>Pirates of the Caribbean: At World's End</td>\n      <td>6.9</td>\n      <td>4500</td>\n      <td>285</td>\n      <td>[{\"cast_id\": 4, \"character\": \"Captain Jack Spa...</td>\n      <td>[{\"credit_id\": \"52fe4232c3a36847f800b579\", \"de...</td>\n    </tr>\n    <tr>\n      <th>2</th>\n      <td>245000000</td>\n      <td>[{\"id\": 28, \"name\": \"Action\"}, {\"id\": 12, \"nam...</td>\n      <td>http://www.sonypictures.com/movies/spectre/</td>\n      <td>206647</td>\n      <td>[{\"id\": 470, \"name\": \"spy\"}, {\"id\": 818, \"name...</td>\n      <td>en</td>\n      <td>Spectre</td>\n      <td>A cryptic message from Bond’s past sends him o...</td>\n      <td>107.376788</td>\n      <td>[{\"name\": \"Columbia Pictures\", \"id\": 5}, {\"nam...</td>\n      <td>...</td>\n      <td>148.0</td>\n      <td>[{\"iso_639_1\": \"fr\", \"name\": \"Fran\\u00e7ais\"},...</td>\n      <td>Released</td>\n      <td>A Plan No One Escapes</td>\n      <td>Spectre</td>\n      <td>6.3</td>\n      <td>4466</td>\n      <td>206647</td>\n      <td>[{\"cast_id\": 1, \"character\": \"James Bond\", \"cr...</td>\n      <td>[{\"credit_id\": \"54805967c3a36829b5002c41\", \"de...</td>\n    </tr>\n    <tr>\n      <th>3</th>\n      <td>250000000</td>\n      <td>[{\"id\": 28, \"name\": \"Action\"}, {\"id\": 80, \"nam...</td>\n      <td>http://www.thedarkknightrises.com/</td>\n      <td>49026</td>\n      <td>[{\"id\": 849, \"name\": \"dc comics\"}, {\"id\": 853,...</td>\n      <td>en</td>\n      <td>The Dark Knight Rises</td>\n      <td>Following the death of District Attorney Harve...</td>\n      <td>112.312950</td>\n      <td>[{\"name\": \"Legendary Pictures\", \"id\": 923}, {\"...</td>\n      <td>...</td>\n      <td>165.0</td>\n      <td>[{\"iso_639_1\": \"en\", \"name\": \"English\"}]</td>\n      <td>Released</td>\n      <td>The Legend Ends</td>\n      <td>The Dark Knight Rises</td>\n      <td>7.6</td>\n      <td>9106</td>\n      <td>49026</td>\n      <td>[{\"cast_id\": 2, \"character\": \"Bruce Wayne / Ba...</td>\n      <td>[{\"credit_id\": \"52fe4781c3a36847f81398c3\", \"de...</td>\n    </tr>\n    <tr>\n      <th>4</th>\n      <td>260000000</td>\n      <td>[{\"id\": 28, \"name\": \"Action\"}, {\"id\": 12, \"nam...</td>\n      <td>http://movies.disney.com/john-carter</td>\n      <td>49529</td>\n      <td>[{\"id\": 818, \"name\": \"based on novel\"}, {\"id\":...</td>\n      <td>en</td>\n      <td>John Carter</td>\n      <td>John Carter is a war-weary, former military ca...</td>\n      <td>43.926995</td>\n      <td>[{\"name\": \"Walt Disney Pictures\", \"id\": 2}]</td>\n      <td>...</td>\n      <td>132.0</td>\n      <td>[{\"iso_639_1\": \"en\", \"name\": \"English\"}]</td>\n      <td>Released</td>\n      <td>Lost in our world, found in another.</td>\n      <td>John Carter</td>\n      <td>6.1</td>\n      <td>2124</td>\n      <td>49529</td>\n      <td>[{\"cast_id\": 5, \"character\": \"John Carter\", \"c...</td>\n      <td>[{\"credit_id\": \"52fe479ac3a36847f813eaa3\", \"de...</td>\n    </tr>\n    <tr>\n      <th>...</th>\n      <td>...</td>\n      <td>...</td>\n      <td>...</td>\n      <td>...</td>\n      <td>...</td>\n      <td>...</td>\n      <td>...</td>\n      <td>...</td>\n      <td>...</td>\n      <td>...</td>\n      <td>...</td>\n      <td>...</td>\n      <td>...</td>\n      <td>...</td>\n      <td>...</td>\n      <td>...</td>\n      <td>...</td>\n      <td>...</td>\n      <td>...</td>\n      <td>...</td>\n      <td>...</td>\n    </tr>\n    <tr>\n      <th>4803</th>\n      <td>220000</td>\n      <td>[{\"id\": 28, \"name\": \"Action\"}, {\"id\": 80, \"nam...</td>\n      <td>NaN</td>\n      <td>9367</td>\n      <td>[{\"id\": 5616, \"name\": \"united states\\u2013mexi...</td>\n      <td>es</td>\n      <td>El Mariachi</td>\n      <td>El Mariachi just wants to play his guitar and ...</td>\n      <td>14.269792</td>\n      <td>[{\"name\": \"Columbia Pictures\", \"id\": 5}]</td>\n      <td>...</td>\n      <td>81.0</td>\n      <td>[{\"iso_639_1\": \"es\", \"name\": \"Espa\\u00f1ol\"}]</td>\n      <td>Released</td>\n      <td>He didn't come looking for trouble, but troubl...</td>\n      <td>El Mariachi</td>\n      <td>6.6</td>\n      <td>238</td>\n      <td>9367</td>\n      <td>[{\"cast_id\": 1, \"character\": \"El Mariachi\", \"c...</td>\n      <td>[{\"credit_id\": \"52fe44eec3a36847f80b280b\", \"de...</td>\n    </tr>\n    <tr>\n      <th>4804</th>\n      <td>9000</td>\n      <td>[{\"id\": 35, \"name\": \"Comedy\"}, {\"id\": 10749, \"...</td>\n      <td>NaN</td>\n      <td>72766</td>\n      <td>[]</td>\n      <td>en</td>\n      <td>Newlyweds</td>\n      <td>A newlywed couple's honeymoon is upended by th...</td>\n      <td>0.642552</td>\n      <td>[]</td>\n      <td>...</td>\n      <td>85.0</td>\n      <td>[]</td>\n      <td>Released</td>\n      <td>A newlywed couple's honeymoon is upended by th...</td>\n      <td>Newlyweds</td>\n      <td>5.9</td>\n      <td>5</td>\n      <td>72766</td>\n      <td>[{\"cast_id\": 1, \"character\": \"Buzzy\", \"credit_...</td>\n      <td>[{\"credit_id\": \"52fe487dc3a368484e0fb013\", \"de...</td>\n    </tr>\n    <tr>\n      <th>4805</th>\n      <td>0</td>\n      <td>[{\"id\": 35, \"name\": \"Comedy\"}, {\"id\": 18, \"nam...</td>\n      <td>http://www.hallmarkchannel.com/signedsealeddel...</td>\n      <td>231617</td>\n      <td>[{\"id\": 248, \"name\": \"date\"}, {\"id\": 699, \"nam...</td>\n      <td>en</td>\n      <td>Signed, Sealed, Delivered</td>\n      <td>\"Signed, Sealed, Delivered\" introduces a dedic...</td>\n      <td>1.444476</td>\n      <td>[{\"name\": \"Front Street Pictures\", \"id\": 3958}...</td>\n      <td>...</td>\n      <td>120.0</td>\n      <td>[{\"iso_639_1\": \"en\", \"name\": \"English\"}]</td>\n      <td>Released</td>\n      <td>NaN</td>\n      <td>Signed, Sealed, Delivered</td>\n      <td>7.0</td>\n      <td>6</td>\n      <td>231617</td>\n      <td>[{\"cast_id\": 8, \"character\": \"Oliver O\\u2019To...</td>\n      <td>[{\"credit_id\": \"52fe4df3c3a36847f8275ecf\", \"de...</td>\n    </tr>\n    <tr>\n      <th>4806</th>\n      <td>0</td>\n      <td>[]</td>\n      <td>http://shanghaicalling.com/</td>\n      <td>126186</td>\n      <td>[]</td>\n      <td>en</td>\n      <td>Shanghai Calling</td>\n      <td>When ambitious New York attorney Sam is sent t...</td>\n      <td>0.857008</td>\n      <td>[]</td>\n      <td>...</td>\n      <td>98.0</td>\n      <td>[{\"iso_639_1\": \"en\", \"name\": \"English\"}]</td>\n      <td>Released</td>\n      <td>A New Yorker in Shanghai</td>\n      <td>Shanghai Calling</td>\n      <td>5.7</td>\n      <td>7</td>\n      <td>126186</td>\n      <td>[{\"cast_id\": 3, \"character\": \"Sam\", \"credit_id...</td>\n      <td>[{\"credit_id\": \"52fe4ad9c3a368484e16a36b\", \"de...</td>\n    </tr>\n    <tr>\n      <th>4807</th>\n      <td>0</td>\n      <td>[{\"id\": 99, \"name\": \"Documentary\"}]</td>\n      <td>NaN</td>\n      <td>25975</td>\n      <td>[{\"id\": 1523, \"name\": \"obsession\"}, {\"id\": 224...</td>\n      <td>en</td>\n      <td>My Date with Drew</td>\n      <td>Ever since the second grade when he first saw ...</td>\n      <td>1.929883</td>\n      <td>[{\"name\": \"rusty bear entertainment\", \"id\": 87...</td>\n      <td>...</td>\n      <td>90.0</td>\n      <td>[{\"iso_639_1\": \"en\", \"name\": \"English\"}]</td>\n      <td>Released</td>\n      <td>NaN</td>\n      <td>My Date with Drew</td>\n      <td>6.3</td>\n      <td>16</td>\n      <td>25975</td>\n      <td>[{\"cast_id\": 3, \"character\": \"Herself\", \"credi...</td>\n      <td>[{\"credit_id\": \"58ce021b9251415a390165d9\", \"de...</td>\n    </tr>\n  </tbody>\n</table>\n<p>4808 rows × 23 columns</p>\n</div>"
     },
     "execution_count": 7,
     "metadata": {},
     "output_type": "execute_result"
    }
   ],
   "source": [
    "merge_movies"
   ],
   "metadata": {
    "collapsed": false,
    "ExecuteTime": {
     "end_time": "2024-09-05T19:39:21.112217100Z",
     "start_time": "2024-09-05T19:39:20.988266300Z"
    }
   },
   "id": "4b03a8969dac60a9",
   "execution_count": 7
  },
  {
   "cell_type": "code",
   "outputs": [],
   "source": [
    "# genres\n",
    "# movie_id\n",
    "#keywords\n",
    "#title\n",
    "#overview\n",
    "#cast\n",
    "#crew\n",
    "\n",
    "movies =merge_movies[['movie_id', 'title', 'overview', 'genres', 'keywords', 'cast', 'crew']]\n"
   ],
   "metadata": {
    "collapsed": false,
    "ExecuteTime": {
     "end_time": "2024-09-05T19:39:21.166433500Z",
     "start_time": "2024-09-05T19:39:21.024641700Z"
    }
   },
   "id": "8a159bfc0e82fd52",
   "execution_count": 8
  },
  {
   "cell_type": "code",
   "outputs": [],
   "source": [],
   "metadata": {
    "collapsed": false,
    "ExecuteTime": {
     "end_time": "2024-09-05T19:39:21.197829700Z",
     "start_time": "2024-09-05T19:39:21.032902700Z"
    }
   },
   "id": "e6b73ee2b09ffcbb",
   "execution_count": 8
  },
  {
   "cell_type": "code",
   "outputs": [
    {
     "name": "stderr",
     "output_type": "stream",
     "text": [
      "C:\\Users\\acer\\AppData\\Local\\Temp\\ipykernel_30136\\983224553.py:1: SettingWithCopyWarning: \n",
      "A value is trying to be set on a copy of a slice from a DataFrame\n",
      "\n",
      "See the caveats in the documentation: https://pandas.pydata.org/pandas-docs/stable/user_guide/indexing.html#returning-a-view-versus-a-copy\n",
      "  movies.dropna(inplace=True)\n"
     ]
    }
   ],
   "source": [
    "movies.dropna(inplace=True)"
   ],
   "metadata": {
    "collapsed": false,
    "ExecuteTime": {
     "end_time": "2024-09-05T19:39:21.314075200Z",
     "start_time": "2024-09-05T19:39:21.039853300Z"
    }
   },
   "id": "f48929fabb978cef",
   "execution_count": 9
  },
  {
   "cell_type": "code",
   "outputs": [
    {
     "data": {
      "text/plain": "movie_id    0\ntitle       0\noverview    0\ngenres      0\nkeywords    0\ncast        0\ncrew        0\ndtype: int64"
     },
     "execution_count": 10,
     "metadata": {},
     "output_type": "execute_result"
    }
   ],
   "source": [
    "movies.isnull().sum()"
   ],
   "metadata": {
    "collapsed": false,
    "ExecuteTime": {
     "end_time": "2024-09-05T19:39:21.344032900Z",
     "start_time": "2024-09-05T19:39:21.052474500Z"
    }
   },
   "id": "1cc62d48cb347cf",
   "execution_count": 10
  },
  {
   "cell_type": "code",
   "outputs": [
    {
     "data": {
      "text/plain": "0"
     },
     "execution_count": 11,
     "metadata": {},
     "output_type": "execute_result"
    }
   ],
   "source": [
    "movies.duplicated().sum()"
   ],
   "metadata": {
    "collapsed": false,
    "ExecuteTime": {
     "end_time": "2024-09-05T19:39:21.477157400Z",
     "start_time": "2024-09-05T19:39:21.069985Z"
    }
   },
   "id": "22bc3f01911c07e3",
   "execution_count": 11
  },
  {
   "cell_type": "code",
   "outputs": [
    {
     "data": {
      "text/plain": "'[{\"id\": 28, \"name\": \"Action\"}, {\"id\": 12, \"name\": \"Adventure\"}, {\"id\": 14, \"name\": \"Fantasy\"}, {\"id\": 878, \"name\": \"Science Fiction\"}]'"
     },
     "execution_count": 12,
     "metadata": {},
     "output_type": "execute_result"
    }
   ],
   "source": [
    "movies.iloc[0].genres"
   ],
   "metadata": {
    "collapsed": false,
    "ExecuteTime": {
     "end_time": "2024-09-05T19:39:21.499763900Z",
     "start_time": "2024-09-05T19:39:21.216351900Z"
    }
   },
   "id": "1cf9db8de811a056",
   "execution_count": 12
  },
  {
   "cell_type": "code",
   "outputs": [],
   "source": [
    "import ast\n",
    "def convert(obj):\n",
    "    l =[]\n",
    "    for i in ast.literal_eval(obj):\n",
    "        l.append(i['name'])\n",
    "    return l"
   ],
   "metadata": {
    "collapsed": false,
    "ExecuteTime": {
     "end_time": "2024-09-05T19:39:21.522307400Z",
     "start_time": "2024-09-05T19:39:21.227120100Z"
    }
   },
   "id": "56cdf653b928731f",
   "execution_count": 13
  },
  {
   "cell_type": "code",
   "outputs": [
    {
     "name": "stderr",
     "output_type": "stream",
     "text": [
      "C:\\Users\\acer\\AppData\\Local\\Temp\\ipykernel_30136\\2740436845.py:1: SettingWithCopyWarning: \n",
      "A value is trying to be set on a copy of a slice from a DataFrame.\n",
      "Try using .loc[row_indexer,col_indexer] = value instead\n",
      "\n",
      "See the caveats in the documentation: https://pandas.pydata.org/pandas-docs/stable/user_guide/indexing.html#returning-a-view-versus-a-copy\n",
      "  movies['genres'] = movies['genres'].apply(convert)\n"
     ]
    }
   ],
   "source": [
    "movies['genres'] = movies['genres'].apply(convert)"
   ],
   "metadata": {
    "collapsed": false,
    "ExecuteTime": {
     "end_time": "2024-09-05T19:39:21.743430600Z",
     "start_time": "2024-09-05T19:39:21.235438500Z"
    }
   },
   "id": "498b46c7a53d10a6",
   "execution_count": 14
  },
  {
   "cell_type": "code",
   "outputs": [
    {
     "name": "stderr",
     "output_type": "stream",
     "text": [
      "C:\\Users\\acer\\AppData\\Local\\Temp\\ipykernel_30136\\490943032.py:1: SettingWithCopyWarning: \n",
      "A value is trying to be set on a copy of a slice from a DataFrame.\n",
      "Try using .loc[row_indexer,col_indexer] = value instead\n",
      "\n",
      "See the caveats in the documentation: https://pandas.pydata.org/pandas-docs/stable/user_guide/indexing.html#returning-a-view-versus-a-copy\n",
      "  movies['keywords'] = movies['keywords'].apply(convert)\n"
     ]
    }
   ],
   "source": [
    "movies['keywords'] = movies['keywords'].apply(convert)"
   ],
   "metadata": {
    "collapsed": false,
    "ExecuteTime": {
     "end_time": "2024-09-05T19:39:22.016920500Z",
     "start_time": "2024-09-05T19:39:21.439115Z"
    }
   },
   "id": "2146b7caa198b1f9",
   "execution_count": 15
  },
  {
   "cell_type": "code",
   "outputs": [],
   "source": [
    "\n",
    "def convert3(obj):\n",
    "    l =[]\n",
    "    counter = 0\n",
    "    for i in ast.literal_eval(obj):\n",
    "        if counter != 3:\n",
    "            l.append(i['name'])\n",
    "            counter += 1\n",
    "        else:\n",
    "            break\n",
    "    return l"
   ],
   "metadata": {
    "collapsed": false,
    "ExecuteTime": {
     "end_time": "2024-09-05T19:39:22.019235900Z",
     "start_time": "2024-09-05T19:39:21.963173300Z"
    }
   },
   "id": "f1a921d1ac2aa2a0",
   "execution_count": 16
  },
  {
   "cell_type": "code",
   "outputs": [
    {
     "name": "stderr",
     "output_type": "stream",
     "text": [
      "C:\\Users\\acer\\AppData\\Local\\Temp\\ipykernel_30136\\872951896.py:1: SettingWithCopyWarning: \n",
      "A value is trying to be set on a copy of a slice from a DataFrame.\n",
      "Try using .loc[row_indexer,col_indexer] = value instead\n",
      "\n",
      "See the caveats in the documentation: https://pandas.pydata.org/pandas-docs/stable/user_guide/indexing.html#returning-a-view-versus-a-copy\n",
      "  movies['cast'] = movies['cast'].apply(convert3)\n"
     ]
    }
   ],
   "source": [
    "movies['cast'] = movies['cast'].apply(convert3)"
   ],
   "metadata": {
    "collapsed": false,
    "ExecuteTime": {
     "end_time": "2024-09-05T19:39:27.333894500Z",
     "start_time": "2024-09-05T19:39:21.970336Z"
    }
   },
   "id": "e5e7bb2f5b73741b",
   "execution_count": 17
  },
  {
   "cell_type": "code",
   "outputs": [],
   "source": [
    "def fetch_director(obj):\n",
    "    l= []\n",
    "    for i in ast.literal_eval(obj):\n",
    "        if i['job'] == 'Director':\n",
    "            l.append(i['name'])\n",
    "    return l\n",
    "    "
   ],
   "metadata": {
    "collapsed": false,
    "ExecuteTime": {
     "end_time": "2024-09-05T19:39:27.342956500Z",
     "start_time": "2024-09-05T19:39:27.333894500Z"
    }
   },
   "id": "5926f9035a847a16",
   "execution_count": 18
  },
  {
   "cell_type": "code",
   "outputs": [
    {
     "name": "stderr",
     "output_type": "stream",
     "text": [
      "C:\\Users\\acer\\AppData\\Local\\Temp\\ipykernel_30136\\4159008703.py:1: SettingWithCopyWarning: \n",
      "A value is trying to be set on a copy of a slice from a DataFrame.\n",
      "Try using .loc[row_indexer,col_indexer] = value instead\n",
      "\n",
      "See the caveats in the documentation: https://pandas.pydata.org/pandas-docs/stable/user_guide/indexing.html#returning-a-view-versus-a-copy\n",
      "  movies['crew'] = movies['crew'].apply(fetch_director)\n"
     ]
    }
   ],
   "source": [
    "movies['crew'] = movies['crew'].apply(fetch_director)"
   ],
   "metadata": {
    "collapsed": false,
    "ExecuteTime": {
     "end_time": "2024-09-05T19:39:32.259422Z",
     "start_time": "2024-09-05T19:39:27.341851300Z"
    }
   },
   "id": "86c94d72a6db01d9",
   "execution_count": 19
  },
  {
   "cell_type": "code",
   "outputs": [
    {
     "data": {
      "text/plain": "      movie_id                                     title  \\\n0        19995                                    Avatar   \n1          285  Pirates of the Caribbean: At World's End   \n2       206647                                   Spectre   \n3        49026                     The Dark Knight Rises   \n4        49529                               John Carter   \n...        ...                                       ...   \n4803      9367                               El Mariachi   \n4804     72766                                 Newlyweds   \n4805    231617                 Signed, Sealed, Delivered   \n4806    126186                          Shanghai Calling   \n4807     25975                         My Date with Drew   \n\n                                               overview  \\\n0     In the 22nd century, a paraplegic Marine is di...   \n1     Captain Barbossa, long believed to be dead, ha...   \n2     A cryptic message from Bond’s past sends him o...   \n3     Following the death of District Attorney Harve...   \n4     John Carter is a war-weary, former military ca...   \n...                                                 ...   \n4803  El Mariachi just wants to play his guitar and ...   \n4804  A newlywed couple's honeymoon is upended by th...   \n4805  \"Signed, Sealed, Delivered\" introduces a dedic...   \n4806  When ambitious New York attorney Sam is sent t...   \n4807  Ever since the second grade when he first saw ...   \n\n                                             genres  \\\n0     [Action, Adventure, Fantasy, Science Fiction]   \n1                      [Adventure, Fantasy, Action]   \n2                        [Action, Adventure, Crime]   \n3                  [Action, Crime, Drama, Thriller]   \n4              [Action, Adventure, Science Fiction]   \n...                                             ...   \n4803                      [Action, Crime, Thriller]   \n4804                              [Comedy, Romance]   \n4805             [Comedy, Drama, Romance, TV Movie]   \n4806                                             []   \n4807                                  [Documentary]   \n\n                                               keywords  \\\n0     [culture clash, future, space war, space colon...   \n1     [ocean, drug abuse, exotic island, east india ...   \n2     [spy, based on novel, secret agent, sequel, mi...   \n3     [dc comics, crime fighter, terrorist, secret i...   \n4     [based on novel, mars, medallion, space travel...   \n...                                                 ...   \n4803  [united states–mexico barrier, legs, arms, pap...   \n4804                                                 []   \n4805  [date, love at first sight, narration, investi...   \n4806                                                 []   \n4807          [obsession, camcorder, crush, dream girl]   \n\n                                                   cast  \\\n0      [Sam Worthington, Zoe Saldana, Sigourney Weaver]   \n1         [Johnny Depp, Orlando Bloom, Keira Knightley]   \n2          [Daniel Craig, Christoph Waltz, Léa Seydoux]   \n3          [Christian Bale, Michael Caine, Gary Oldman]   \n4        [Taylor Kitsch, Lynn Collins, Samantha Morton]   \n...                                                 ...   \n4803  [Carlos Gallardo, Jaime de Hoyos, Peter Marqua...   \n4804       [Edward Burns, Kerry Bishé, Marsha Dietlein]   \n4805         [Eric Mabius, Kristin Booth, Crystal Lowe]   \n4806          [Daniel Henney, Eliza Coupe, Bill Paxton]   \n4807  [Drew Barrymore, Brian Herzlinger, Corey Feldman]   \n\n                                          crew  \n0                              [James Cameron]  \n1                             [Gore Verbinski]  \n2                                 [Sam Mendes]  \n3                          [Christopher Nolan]  \n4                             [Andrew Stanton]  \n...                                        ...  \n4803                        [Robert Rodriguez]  \n4804                            [Edward Burns]  \n4805                             [Scott Smith]  \n4806                             [Daniel Hsia]  \n4807  [Brian Herzlinger, Jon Gunn, Brett Winn]  \n\n[4805 rows x 7 columns]",
      "text/html": "<div>\n<style scoped>\n    .dataframe tbody tr th:only-of-type {\n        vertical-align: middle;\n    }\n\n    .dataframe tbody tr th {\n        vertical-align: top;\n    }\n\n    .dataframe thead th {\n        text-align: right;\n    }\n</style>\n<table border=\"1\" class=\"dataframe\">\n  <thead>\n    <tr style=\"text-align: right;\">\n      <th></th>\n      <th>movie_id</th>\n      <th>title</th>\n      <th>overview</th>\n      <th>genres</th>\n      <th>keywords</th>\n      <th>cast</th>\n      <th>crew</th>\n    </tr>\n  </thead>\n  <tbody>\n    <tr>\n      <th>0</th>\n      <td>19995</td>\n      <td>Avatar</td>\n      <td>In the 22nd century, a paraplegic Marine is di...</td>\n      <td>[Action, Adventure, Fantasy, Science Fiction]</td>\n      <td>[culture clash, future, space war, space colon...</td>\n      <td>[Sam Worthington, Zoe Saldana, Sigourney Weaver]</td>\n      <td>[James Cameron]</td>\n    </tr>\n    <tr>\n      <th>1</th>\n      <td>285</td>\n      <td>Pirates of the Caribbean: At World's End</td>\n      <td>Captain Barbossa, long believed to be dead, ha...</td>\n      <td>[Adventure, Fantasy, Action]</td>\n      <td>[ocean, drug abuse, exotic island, east india ...</td>\n      <td>[Johnny Depp, Orlando Bloom, Keira Knightley]</td>\n      <td>[Gore Verbinski]</td>\n    </tr>\n    <tr>\n      <th>2</th>\n      <td>206647</td>\n      <td>Spectre</td>\n      <td>A cryptic message from Bond’s past sends him o...</td>\n      <td>[Action, Adventure, Crime]</td>\n      <td>[spy, based on novel, secret agent, sequel, mi...</td>\n      <td>[Daniel Craig, Christoph Waltz, Léa Seydoux]</td>\n      <td>[Sam Mendes]</td>\n    </tr>\n    <tr>\n      <th>3</th>\n      <td>49026</td>\n      <td>The Dark Knight Rises</td>\n      <td>Following the death of District Attorney Harve...</td>\n      <td>[Action, Crime, Drama, Thriller]</td>\n      <td>[dc comics, crime fighter, terrorist, secret i...</td>\n      <td>[Christian Bale, Michael Caine, Gary Oldman]</td>\n      <td>[Christopher Nolan]</td>\n    </tr>\n    <tr>\n      <th>4</th>\n      <td>49529</td>\n      <td>John Carter</td>\n      <td>John Carter is a war-weary, former military ca...</td>\n      <td>[Action, Adventure, Science Fiction]</td>\n      <td>[based on novel, mars, medallion, space travel...</td>\n      <td>[Taylor Kitsch, Lynn Collins, Samantha Morton]</td>\n      <td>[Andrew Stanton]</td>\n    </tr>\n    <tr>\n      <th>...</th>\n      <td>...</td>\n      <td>...</td>\n      <td>...</td>\n      <td>...</td>\n      <td>...</td>\n      <td>...</td>\n      <td>...</td>\n    </tr>\n    <tr>\n      <th>4803</th>\n      <td>9367</td>\n      <td>El Mariachi</td>\n      <td>El Mariachi just wants to play his guitar and ...</td>\n      <td>[Action, Crime, Thriller]</td>\n      <td>[united states–mexico barrier, legs, arms, pap...</td>\n      <td>[Carlos Gallardo, Jaime de Hoyos, Peter Marqua...</td>\n      <td>[Robert Rodriguez]</td>\n    </tr>\n    <tr>\n      <th>4804</th>\n      <td>72766</td>\n      <td>Newlyweds</td>\n      <td>A newlywed couple's honeymoon is upended by th...</td>\n      <td>[Comedy, Romance]</td>\n      <td>[]</td>\n      <td>[Edward Burns, Kerry Bishé, Marsha Dietlein]</td>\n      <td>[Edward Burns]</td>\n    </tr>\n    <tr>\n      <th>4805</th>\n      <td>231617</td>\n      <td>Signed, Sealed, Delivered</td>\n      <td>\"Signed, Sealed, Delivered\" introduces a dedic...</td>\n      <td>[Comedy, Drama, Romance, TV Movie]</td>\n      <td>[date, love at first sight, narration, investi...</td>\n      <td>[Eric Mabius, Kristin Booth, Crystal Lowe]</td>\n      <td>[Scott Smith]</td>\n    </tr>\n    <tr>\n      <th>4806</th>\n      <td>126186</td>\n      <td>Shanghai Calling</td>\n      <td>When ambitious New York attorney Sam is sent t...</td>\n      <td>[]</td>\n      <td>[]</td>\n      <td>[Daniel Henney, Eliza Coupe, Bill Paxton]</td>\n      <td>[Daniel Hsia]</td>\n    </tr>\n    <tr>\n      <th>4807</th>\n      <td>25975</td>\n      <td>My Date with Drew</td>\n      <td>Ever since the second grade when he first saw ...</td>\n      <td>[Documentary]</td>\n      <td>[obsession, camcorder, crush, dream girl]</td>\n      <td>[Drew Barrymore, Brian Herzlinger, Corey Feldman]</td>\n      <td>[Brian Herzlinger, Jon Gunn, Brett Winn]</td>\n    </tr>\n  </tbody>\n</table>\n<p>4805 rows × 7 columns</p>\n</div>"
     },
     "execution_count": 20,
     "metadata": {},
     "output_type": "execute_result"
    }
   ],
   "source": [
    "movies"
   ],
   "metadata": {
    "collapsed": false,
    "ExecuteTime": {
     "end_time": "2024-09-05T19:39:32.321750300Z",
     "start_time": "2024-09-05T19:39:32.261689300Z"
    }
   },
   "id": "c651dc25e3901fb6",
   "execution_count": 20
  },
  {
   "cell_type": "code",
   "outputs": [
    {
     "name": "stderr",
     "output_type": "stream",
     "text": [
      "C:\\Users\\acer\\AppData\\Local\\Temp\\ipykernel_30136\\2396809933.py:1: SettingWithCopyWarning: \n",
      "A value is trying to be set on a copy of a slice from a DataFrame.\n",
      "Try using .loc[row_indexer,col_indexer] = value instead\n",
      "\n",
      "See the caveats in the documentation: https://pandas.pydata.org/pandas-docs/stable/user_guide/indexing.html#returning-a-view-versus-a-copy\n",
      "  movies['overview'] = movies['overview'].apply(lambda x : x.split())\n"
     ]
    }
   ],
   "source": [
    "movies['overview'] = movies['overview'].apply(lambda x : x.split())"
   ],
   "metadata": {
    "collapsed": false,
    "ExecuteTime": {
     "end_time": "2024-09-05T19:39:32.404004600Z",
     "start_time": "2024-09-05T19:39:32.289987600Z"
    }
   },
   "id": "1a36c9f88f9f4677",
   "execution_count": 21
  },
  {
   "cell_type": "code",
   "outputs": [
    {
     "data": {
      "text/plain": "      movie_id                                     title  \\\n0        19995                                    Avatar   \n1          285  Pirates of the Caribbean: At World's End   \n2       206647                                   Spectre   \n3        49026                     The Dark Knight Rises   \n4        49529                               John Carter   \n...        ...                                       ...   \n4803      9367                               El Mariachi   \n4804     72766                                 Newlyweds   \n4805    231617                 Signed, Sealed, Delivered   \n4806    126186                          Shanghai Calling   \n4807     25975                         My Date with Drew   \n\n                                               overview  \\\n0     [In, the, 22nd, century,, a, paraplegic, Marin...   \n1     [Captain, Barbossa,, long, believed, to, be, d...   \n2     [A, cryptic, message, from, Bond’s, past, send...   \n3     [Following, the, death, of, District, Attorney...   \n4     [John, Carter, is, a, war-weary,, former, mili...   \n...                                                 ...   \n4803  [El, Mariachi, just, wants, to, play, his, gui...   \n4804  [A, newlywed, couple's, honeymoon, is, upended...   \n4805  [\"Signed,, Sealed,, Delivered\", introduces, a,...   \n4806  [When, ambitious, New, York, attorney, Sam, is...   \n4807  [Ever, since, the, second, grade, when, he, fi...   \n\n                                             genres  \\\n0     [Action, Adventure, Fantasy, Science Fiction]   \n1                      [Adventure, Fantasy, Action]   \n2                        [Action, Adventure, Crime]   \n3                  [Action, Crime, Drama, Thriller]   \n4              [Action, Adventure, Science Fiction]   \n...                                             ...   \n4803                      [Action, Crime, Thriller]   \n4804                              [Comedy, Romance]   \n4805             [Comedy, Drama, Romance, TV Movie]   \n4806                                             []   \n4807                                  [Documentary]   \n\n                                               keywords  \\\n0     [culture clash, future, space war, space colon...   \n1     [ocean, drug abuse, exotic island, east india ...   \n2     [spy, based on novel, secret agent, sequel, mi...   \n3     [dc comics, crime fighter, terrorist, secret i...   \n4     [based on novel, mars, medallion, space travel...   \n...                                                 ...   \n4803  [united states–mexico barrier, legs, arms, pap...   \n4804                                                 []   \n4805  [date, love at first sight, narration, investi...   \n4806                                                 []   \n4807          [obsession, camcorder, crush, dream girl]   \n\n                                                   cast  \\\n0      [Sam Worthington, Zoe Saldana, Sigourney Weaver]   \n1         [Johnny Depp, Orlando Bloom, Keira Knightley]   \n2          [Daniel Craig, Christoph Waltz, Léa Seydoux]   \n3          [Christian Bale, Michael Caine, Gary Oldman]   \n4        [Taylor Kitsch, Lynn Collins, Samantha Morton]   \n...                                                 ...   \n4803  [Carlos Gallardo, Jaime de Hoyos, Peter Marqua...   \n4804       [Edward Burns, Kerry Bishé, Marsha Dietlein]   \n4805         [Eric Mabius, Kristin Booth, Crystal Lowe]   \n4806          [Daniel Henney, Eliza Coupe, Bill Paxton]   \n4807  [Drew Barrymore, Brian Herzlinger, Corey Feldman]   \n\n                                          crew  \n0                              [James Cameron]  \n1                             [Gore Verbinski]  \n2                                 [Sam Mendes]  \n3                          [Christopher Nolan]  \n4                             [Andrew Stanton]  \n...                                        ...  \n4803                        [Robert Rodriguez]  \n4804                            [Edward Burns]  \n4805                             [Scott Smith]  \n4806                             [Daniel Hsia]  \n4807  [Brian Herzlinger, Jon Gunn, Brett Winn]  \n\n[4805 rows x 7 columns]",
      "text/html": "<div>\n<style scoped>\n    .dataframe tbody tr th:only-of-type {\n        vertical-align: middle;\n    }\n\n    .dataframe tbody tr th {\n        vertical-align: top;\n    }\n\n    .dataframe thead th {\n        text-align: right;\n    }\n</style>\n<table border=\"1\" class=\"dataframe\">\n  <thead>\n    <tr style=\"text-align: right;\">\n      <th></th>\n      <th>movie_id</th>\n      <th>title</th>\n      <th>overview</th>\n      <th>genres</th>\n      <th>keywords</th>\n      <th>cast</th>\n      <th>crew</th>\n    </tr>\n  </thead>\n  <tbody>\n    <tr>\n      <th>0</th>\n      <td>19995</td>\n      <td>Avatar</td>\n      <td>[In, the, 22nd, century,, a, paraplegic, Marin...</td>\n      <td>[Action, Adventure, Fantasy, Science Fiction]</td>\n      <td>[culture clash, future, space war, space colon...</td>\n      <td>[Sam Worthington, Zoe Saldana, Sigourney Weaver]</td>\n      <td>[James Cameron]</td>\n    </tr>\n    <tr>\n      <th>1</th>\n      <td>285</td>\n      <td>Pirates of the Caribbean: At World's End</td>\n      <td>[Captain, Barbossa,, long, believed, to, be, d...</td>\n      <td>[Adventure, Fantasy, Action]</td>\n      <td>[ocean, drug abuse, exotic island, east india ...</td>\n      <td>[Johnny Depp, Orlando Bloom, Keira Knightley]</td>\n      <td>[Gore Verbinski]</td>\n    </tr>\n    <tr>\n      <th>2</th>\n      <td>206647</td>\n      <td>Spectre</td>\n      <td>[A, cryptic, message, from, Bond’s, past, send...</td>\n      <td>[Action, Adventure, Crime]</td>\n      <td>[spy, based on novel, secret agent, sequel, mi...</td>\n      <td>[Daniel Craig, Christoph Waltz, Léa Seydoux]</td>\n      <td>[Sam Mendes]</td>\n    </tr>\n    <tr>\n      <th>3</th>\n      <td>49026</td>\n      <td>The Dark Knight Rises</td>\n      <td>[Following, the, death, of, District, Attorney...</td>\n      <td>[Action, Crime, Drama, Thriller]</td>\n      <td>[dc comics, crime fighter, terrorist, secret i...</td>\n      <td>[Christian Bale, Michael Caine, Gary Oldman]</td>\n      <td>[Christopher Nolan]</td>\n    </tr>\n    <tr>\n      <th>4</th>\n      <td>49529</td>\n      <td>John Carter</td>\n      <td>[John, Carter, is, a, war-weary,, former, mili...</td>\n      <td>[Action, Adventure, Science Fiction]</td>\n      <td>[based on novel, mars, medallion, space travel...</td>\n      <td>[Taylor Kitsch, Lynn Collins, Samantha Morton]</td>\n      <td>[Andrew Stanton]</td>\n    </tr>\n    <tr>\n      <th>...</th>\n      <td>...</td>\n      <td>...</td>\n      <td>...</td>\n      <td>...</td>\n      <td>...</td>\n      <td>...</td>\n      <td>...</td>\n    </tr>\n    <tr>\n      <th>4803</th>\n      <td>9367</td>\n      <td>El Mariachi</td>\n      <td>[El, Mariachi, just, wants, to, play, his, gui...</td>\n      <td>[Action, Crime, Thriller]</td>\n      <td>[united states–mexico barrier, legs, arms, pap...</td>\n      <td>[Carlos Gallardo, Jaime de Hoyos, Peter Marqua...</td>\n      <td>[Robert Rodriguez]</td>\n    </tr>\n    <tr>\n      <th>4804</th>\n      <td>72766</td>\n      <td>Newlyweds</td>\n      <td>[A, newlywed, couple's, honeymoon, is, upended...</td>\n      <td>[Comedy, Romance]</td>\n      <td>[]</td>\n      <td>[Edward Burns, Kerry Bishé, Marsha Dietlein]</td>\n      <td>[Edward Burns]</td>\n    </tr>\n    <tr>\n      <th>4805</th>\n      <td>231617</td>\n      <td>Signed, Sealed, Delivered</td>\n      <td>[\"Signed,, Sealed,, Delivered\", introduces, a,...</td>\n      <td>[Comedy, Drama, Romance, TV Movie]</td>\n      <td>[date, love at first sight, narration, investi...</td>\n      <td>[Eric Mabius, Kristin Booth, Crystal Lowe]</td>\n      <td>[Scott Smith]</td>\n    </tr>\n    <tr>\n      <th>4806</th>\n      <td>126186</td>\n      <td>Shanghai Calling</td>\n      <td>[When, ambitious, New, York, attorney, Sam, is...</td>\n      <td>[]</td>\n      <td>[]</td>\n      <td>[Daniel Henney, Eliza Coupe, Bill Paxton]</td>\n      <td>[Daniel Hsia]</td>\n    </tr>\n    <tr>\n      <th>4807</th>\n      <td>25975</td>\n      <td>My Date with Drew</td>\n      <td>[Ever, since, the, second, grade, when, he, fi...</td>\n      <td>[Documentary]</td>\n      <td>[obsession, camcorder, crush, dream girl]</td>\n      <td>[Drew Barrymore, Brian Herzlinger, Corey Feldman]</td>\n      <td>[Brian Herzlinger, Jon Gunn, Brett Winn]</td>\n    </tr>\n  </tbody>\n</table>\n<p>4805 rows × 7 columns</p>\n</div>"
     },
     "execution_count": 22,
     "metadata": {},
     "output_type": "execute_result"
    }
   ],
   "source": [
    "movies"
   ],
   "metadata": {
    "collapsed": false,
    "ExecuteTime": {
     "end_time": "2024-09-05T19:39:32.462294800Z",
     "start_time": "2024-09-05T19:39:32.326614900Z"
    }
   },
   "id": "28339eb4986282f4",
   "execution_count": 22
  },
  {
   "cell_type": "code",
   "outputs": [
    {
     "name": "stderr",
     "output_type": "stream",
     "text": [
      "C:\\Users\\acer\\AppData\\Local\\Temp\\ipykernel_30136\\3227771330.py:1: SettingWithCopyWarning: \n",
      "A value is trying to be set on a copy of a slice from a DataFrame.\n",
      "Try using .loc[row_indexer,col_indexer] = value instead\n",
      "\n",
      "See the caveats in the documentation: https://pandas.pydata.org/pandas-docs/stable/user_guide/indexing.html#returning-a-view-versus-a-copy\n",
      "  movies['genres'] = movies['genres'].apply(lambda x :[i.replace(\" \",\"\") for i in x])\n",
      "C:\\Users\\acer\\AppData\\Local\\Temp\\ipykernel_30136\\3227771330.py:2: SettingWithCopyWarning: \n",
      "A value is trying to be set on a copy of a slice from a DataFrame.\n",
      "Try using .loc[row_indexer,col_indexer] = value instead\n",
      "\n",
      "See the caveats in the documentation: https://pandas.pydata.org/pandas-docs/stable/user_guide/indexing.html#returning-a-view-versus-a-copy\n",
      "  movies['keywords'] = movies['keywords'].apply(lambda x :[i.replace(\" \",\"\") for i in x])\n",
      "C:\\Users\\acer\\AppData\\Local\\Temp\\ipykernel_30136\\3227771330.py:3: SettingWithCopyWarning: \n",
      "A value is trying to be set on a copy of a slice from a DataFrame.\n",
      "Try using .loc[row_indexer,col_indexer] = value instead\n",
      "\n",
      "See the caveats in the documentation: https://pandas.pydata.org/pandas-docs/stable/user_guide/indexing.html#returning-a-view-versus-a-copy\n",
      "  movies['cast'] = movies['cast'].apply(lambda x :[i.replace(\" \",\"\") for i in x])\n",
      "C:\\Users\\acer\\AppData\\Local\\Temp\\ipykernel_30136\\3227771330.py:4: SettingWithCopyWarning: \n",
      "A value is trying to be set on a copy of a slice from a DataFrame.\n",
      "Try using .loc[row_indexer,col_indexer] = value instead\n",
      "\n",
      "See the caveats in the documentation: https://pandas.pydata.org/pandas-docs/stable/user_guide/indexing.html#returning-a-view-versus-a-copy\n",
      "  movies['crew'] = movies['crew'].apply(lambda x :[i.replace(\" \",\"\") for i in x])\n"
     ]
    }
   ],
   "source": [
    "movies['genres'] = movies['genres'].apply(lambda x :[i.replace(\" \",\"\") for i in x])\n",
    "movies['keywords'] = movies['keywords'].apply(lambda x :[i.replace(\" \",\"\") for i in x])\n",
    "movies['cast'] = movies['cast'].apply(lambda x :[i.replace(\" \",\"\") for i in x])\n",
    "movies['crew'] = movies['crew'].apply(lambda x :[i.replace(\" \",\"\") for i in x])"
   ],
   "metadata": {
    "collapsed": false,
    "ExecuteTime": {
     "end_time": "2024-09-05T19:39:32.539342100Z",
     "start_time": "2024-09-05T19:39:32.362231600Z"
    }
   },
   "id": "62595731e7712bc3",
   "execution_count": 23
  },
  {
   "cell_type": "code",
   "outputs": [
    {
     "name": "stderr",
     "output_type": "stream",
     "text": [
      "C:\\Users\\acer\\AppData\\Local\\Temp\\ipykernel_30136\\4141426059.py:1: SettingWithCopyWarning: \n",
      "A value is trying to be set on a copy of a slice from a DataFrame.\n",
      "Try using .loc[row_indexer,col_indexer] = value instead\n",
      "\n",
      "See the caveats in the documentation: https://pandas.pydata.org/pandas-docs/stable/user_guide/indexing.html#returning-a-view-versus-a-copy\n",
      "  movies['tags'] = movies['overview'] + movies['genres'] + movies['cast'] + movies['crew'] + movies['keywords']\n"
     ]
    }
   ],
   "source": [
    "movies['tags'] = movies['overview'] + movies['genres'] + movies['cast'] + movies['crew'] + movies['keywords']"
   ],
   "metadata": {
    "collapsed": false,
    "ExecuteTime": {
     "end_time": "2024-09-05T19:39:32.641887300Z",
     "start_time": "2024-09-05T19:39:32.402804600Z"
    }
   },
   "id": "79ddab73013584f3",
   "execution_count": 24
  },
  {
   "cell_type": "code",
   "outputs": [
    {
     "data": {
      "text/plain": "      movie_id                                     title  \\\n0        19995                                    Avatar   \n1          285  Pirates of the Caribbean: At World's End   \n2       206647                                   Spectre   \n3        49026                     The Dark Knight Rises   \n4        49529                               John Carter   \n...        ...                                       ...   \n4803      9367                               El Mariachi   \n4804     72766                                 Newlyweds   \n4805    231617                 Signed, Sealed, Delivered   \n4806    126186                          Shanghai Calling   \n4807     25975                         My Date with Drew   \n\n                                               overview  \\\n0     [In, the, 22nd, century,, a, paraplegic, Marin...   \n1     [Captain, Barbossa,, long, believed, to, be, d...   \n2     [A, cryptic, message, from, Bond’s, past, send...   \n3     [Following, the, death, of, District, Attorney...   \n4     [John, Carter, is, a, war-weary,, former, mili...   \n...                                                 ...   \n4803  [El, Mariachi, just, wants, to, play, his, gui...   \n4804  [A, newlywed, couple's, honeymoon, is, upended...   \n4805  [\"Signed,, Sealed,, Delivered\", introduces, a,...   \n4806  [When, ambitious, New, York, attorney, Sam, is...   \n4807  [Ever, since, the, second, grade, when, he, fi...   \n\n                                            genres  \\\n0     [Action, Adventure, Fantasy, ScienceFiction]   \n1                     [Adventure, Fantasy, Action]   \n2                       [Action, Adventure, Crime]   \n3                 [Action, Crime, Drama, Thriller]   \n4              [Action, Adventure, ScienceFiction]   \n...                                            ...   \n4803                     [Action, Crime, Thriller]   \n4804                             [Comedy, Romance]   \n4805             [Comedy, Drama, Romance, TVMovie]   \n4806                                            []   \n4807                                 [Documentary]   \n\n                                               keywords  \\\n0     [cultureclash, future, spacewar, spacecolony, ...   \n1     [ocean, drugabuse, exoticisland, eastindiatrad...   \n2     [spy, basedonnovel, secretagent, sequel, mi6, ...   \n3     [dccomics, crimefighter, terrorist, secretiden...   \n4     [basedonnovel, mars, medallion, spacetravel, p...   \n...                                                 ...   \n4803  [unitedstates–mexicobarrier, legs, arms, paper...   \n4804                                                 []   \n4805  [date, loveatfirstsight, narration, investigat...   \n4806                                                 []   \n4807           [obsession, camcorder, crush, dreamgirl]   \n\n                                                cast  \\\n0      [SamWorthington, ZoeSaldana, SigourneyWeaver]   \n1         [JohnnyDepp, OrlandoBloom, KeiraKnightley]   \n2          [DanielCraig, ChristophWaltz, LéaSeydoux]   \n3          [ChristianBale, MichaelCaine, GaryOldman]   \n4        [TaylorKitsch, LynnCollins, SamanthaMorton]   \n...                                              ...   \n4803  [CarlosGallardo, JaimedeHoyos, PeterMarquardt]   \n4804       [EdwardBurns, KerryBishé, MarshaDietlein]   \n4805         [EricMabius, KristinBooth, CrystalLowe]   \n4806          [DanielHenney, ElizaCoupe, BillPaxton]   \n4807  [DrewBarrymore, BrianHerzlinger, CoreyFeldman]   \n\n                                       crew  \\\n0                            [JamesCameron]   \n1                           [GoreVerbinski]   \n2                               [SamMendes]   \n3                        [ChristopherNolan]   \n4                           [AndrewStanton]   \n...                                     ...   \n4803                      [RobertRodriguez]   \n4804                          [EdwardBurns]   \n4805                           [ScottSmith]   \n4806                           [DanielHsia]   \n4807  [BrianHerzlinger, JonGunn, BrettWinn]   \n\n                                                   tags  \n0     [In, the, 22nd, century,, a, paraplegic, Marin...  \n1     [Captain, Barbossa,, long, believed, to, be, d...  \n2     [A, cryptic, message, from, Bond’s, past, send...  \n3     [Following, the, death, of, District, Attorney...  \n4     [John, Carter, is, a, war-weary,, former, mili...  \n...                                                 ...  \n4803  [El, Mariachi, just, wants, to, play, his, gui...  \n4804  [A, newlywed, couple's, honeymoon, is, upended...  \n4805  [\"Signed,, Sealed,, Delivered\", introduces, a,...  \n4806  [When, ambitious, New, York, attorney, Sam, is...  \n4807  [Ever, since, the, second, grade, when, he, fi...  \n\n[4805 rows x 8 columns]",
      "text/html": "<div>\n<style scoped>\n    .dataframe tbody tr th:only-of-type {\n        vertical-align: middle;\n    }\n\n    .dataframe tbody tr th {\n        vertical-align: top;\n    }\n\n    .dataframe thead th {\n        text-align: right;\n    }\n</style>\n<table border=\"1\" class=\"dataframe\">\n  <thead>\n    <tr style=\"text-align: right;\">\n      <th></th>\n      <th>movie_id</th>\n      <th>title</th>\n      <th>overview</th>\n      <th>genres</th>\n      <th>keywords</th>\n      <th>cast</th>\n      <th>crew</th>\n      <th>tags</th>\n    </tr>\n  </thead>\n  <tbody>\n    <tr>\n      <th>0</th>\n      <td>19995</td>\n      <td>Avatar</td>\n      <td>[In, the, 22nd, century,, a, paraplegic, Marin...</td>\n      <td>[Action, Adventure, Fantasy, ScienceFiction]</td>\n      <td>[cultureclash, future, spacewar, spacecolony, ...</td>\n      <td>[SamWorthington, ZoeSaldana, SigourneyWeaver]</td>\n      <td>[JamesCameron]</td>\n      <td>[In, the, 22nd, century,, a, paraplegic, Marin...</td>\n    </tr>\n    <tr>\n      <th>1</th>\n      <td>285</td>\n      <td>Pirates of the Caribbean: At World's End</td>\n      <td>[Captain, Barbossa,, long, believed, to, be, d...</td>\n      <td>[Adventure, Fantasy, Action]</td>\n      <td>[ocean, drugabuse, exoticisland, eastindiatrad...</td>\n      <td>[JohnnyDepp, OrlandoBloom, KeiraKnightley]</td>\n      <td>[GoreVerbinski]</td>\n      <td>[Captain, Barbossa,, long, believed, to, be, d...</td>\n    </tr>\n    <tr>\n      <th>2</th>\n      <td>206647</td>\n      <td>Spectre</td>\n      <td>[A, cryptic, message, from, Bond’s, past, send...</td>\n      <td>[Action, Adventure, Crime]</td>\n      <td>[spy, basedonnovel, secretagent, sequel, mi6, ...</td>\n      <td>[DanielCraig, ChristophWaltz, LéaSeydoux]</td>\n      <td>[SamMendes]</td>\n      <td>[A, cryptic, message, from, Bond’s, past, send...</td>\n    </tr>\n    <tr>\n      <th>3</th>\n      <td>49026</td>\n      <td>The Dark Knight Rises</td>\n      <td>[Following, the, death, of, District, Attorney...</td>\n      <td>[Action, Crime, Drama, Thriller]</td>\n      <td>[dccomics, crimefighter, terrorist, secretiden...</td>\n      <td>[ChristianBale, MichaelCaine, GaryOldman]</td>\n      <td>[ChristopherNolan]</td>\n      <td>[Following, the, death, of, District, Attorney...</td>\n    </tr>\n    <tr>\n      <th>4</th>\n      <td>49529</td>\n      <td>John Carter</td>\n      <td>[John, Carter, is, a, war-weary,, former, mili...</td>\n      <td>[Action, Adventure, ScienceFiction]</td>\n      <td>[basedonnovel, mars, medallion, spacetravel, p...</td>\n      <td>[TaylorKitsch, LynnCollins, SamanthaMorton]</td>\n      <td>[AndrewStanton]</td>\n      <td>[John, Carter, is, a, war-weary,, former, mili...</td>\n    </tr>\n    <tr>\n      <th>...</th>\n      <td>...</td>\n      <td>...</td>\n      <td>...</td>\n      <td>...</td>\n      <td>...</td>\n      <td>...</td>\n      <td>...</td>\n      <td>...</td>\n    </tr>\n    <tr>\n      <th>4803</th>\n      <td>9367</td>\n      <td>El Mariachi</td>\n      <td>[El, Mariachi, just, wants, to, play, his, gui...</td>\n      <td>[Action, Crime, Thriller]</td>\n      <td>[unitedstates–mexicobarrier, legs, arms, paper...</td>\n      <td>[CarlosGallardo, JaimedeHoyos, PeterMarquardt]</td>\n      <td>[RobertRodriguez]</td>\n      <td>[El, Mariachi, just, wants, to, play, his, gui...</td>\n    </tr>\n    <tr>\n      <th>4804</th>\n      <td>72766</td>\n      <td>Newlyweds</td>\n      <td>[A, newlywed, couple's, honeymoon, is, upended...</td>\n      <td>[Comedy, Romance]</td>\n      <td>[]</td>\n      <td>[EdwardBurns, KerryBishé, MarshaDietlein]</td>\n      <td>[EdwardBurns]</td>\n      <td>[A, newlywed, couple's, honeymoon, is, upended...</td>\n    </tr>\n    <tr>\n      <th>4805</th>\n      <td>231617</td>\n      <td>Signed, Sealed, Delivered</td>\n      <td>[\"Signed,, Sealed,, Delivered\", introduces, a,...</td>\n      <td>[Comedy, Drama, Romance, TVMovie]</td>\n      <td>[date, loveatfirstsight, narration, investigat...</td>\n      <td>[EricMabius, KristinBooth, CrystalLowe]</td>\n      <td>[ScottSmith]</td>\n      <td>[\"Signed,, Sealed,, Delivered\", introduces, a,...</td>\n    </tr>\n    <tr>\n      <th>4806</th>\n      <td>126186</td>\n      <td>Shanghai Calling</td>\n      <td>[When, ambitious, New, York, attorney, Sam, is...</td>\n      <td>[]</td>\n      <td>[]</td>\n      <td>[DanielHenney, ElizaCoupe, BillPaxton]</td>\n      <td>[DanielHsia]</td>\n      <td>[When, ambitious, New, York, attorney, Sam, is...</td>\n    </tr>\n    <tr>\n      <th>4807</th>\n      <td>25975</td>\n      <td>My Date with Drew</td>\n      <td>[Ever, since, the, second, grade, when, he, fi...</td>\n      <td>[Documentary]</td>\n      <td>[obsession, camcorder, crush, dreamgirl]</td>\n      <td>[DrewBarrymore, BrianHerzlinger, CoreyFeldman]</td>\n      <td>[BrianHerzlinger, JonGunn, BrettWinn]</td>\n      <td>[Ever, since, the, second, grade, when, he, fi...</td>\n    </tr>\n  </tbody>\n</table>\n<p>4805 rows × 8 columns</p>\n</div>"
     },
     "execution_count": 25,
     "metadata": {},
     "output_type": "execute_result"
    }
   ],
   "source": [
    "movies"
   ],
   "metadata": {
    "collapsed": false,
    "ExecuteTime": {
     "end_time": "2024-09-05T19:39:32.666247800Z",
     "start_time": "2024-09-05T19:39:32.563951300Z"
    }
   },
   "id": "736c45c18aa7e905",
   "execution_count": 25
  },
  {
   "cell_type": "code",
   "outputs": [],
   "source": [
    "new_df = movies[['movie_id', 'title', 'tags']]"
   ],
   "metadata": {
    "collapsed": false,
    "ExecuteTime": {
     "end_time": "2024-09-05T19:39:32.667337700Z",
     "start_time": "2024-09-05T19:39:32.571056400Z"
    }
   },
   "id": "213e819d185d24f",
   "execution_count": 26
  },
  {
   "cell_type": "code",
   "outputs": [
    {
     "name": "stderr",
     "output_type": "stream",
     "text": [
      "C:\\Users\\acer\\AppData\\Local\\Temp\\ipykernel_30136\\1328662689.py:1: SettingWithCopyWarning: \n",
      "A value is trying to be set on a copy of a slice from a DataFrame.\n",
      "Try using .loc[row_indexer,col_indexer] = value instead\n",
      "\n",
      "See the caveats in the documentation: https://pandas.pydata.org/pandas-docs/stable/user_guide/indexing.html#returning-a-view-versus-a-copy\n",
      "  new_df['tags'] = new_df['tags'].apply(lambda x :\" \".join(x))\n"
     ]
    }
   ],
   "source": [
    "new_df['tags'] = new_df['tags'].apply(lambda x :\" \".join(x))"
   ],
   "metadata": {
    "collapsed": false,
    "ExecuteTime": {
     "end_time": "2024-09-05T19:39:32.775486500Z",
     "start_time": "2024-09-05T19:39:32.579360Z"
    }
   },
   "id": "eb0feccfa7f53c31",
   "execution_count": 27
  },
  {
   "cell_type": "code",
   "outputs": [
    {
     "name": "stderr",
     "output_type": "stream",
     "text": [
      "C:\\Users\\acer\\AppData\\Local\\Temp\\ipykernel_30136\\1889842218.py:1: SettingWithCopyWarning: \n",
      "A value is trying to be set on a copy of a slice from a DataFrame.\n",
      "Try using .loc[row_indexer,col_indexer] = value instead\n",
      "\n",
      "See the caveats in the documentation: https://pandas.pydata.org/pandas-docs/stable/user_guide/indexing.html#returning-a-view-versus-a-copy\n",
      "  new_df['tags'] = new_df['tags'].apply(lambda x: x.lower())\n"
     ]
    }
   ],
   "source": [
    "new_df['tags'] = new_df['tags'].apply(lambda x: x.lower())"
   ],
   "metadata": {
    "collapsed": false,
    "ExecuteTime": {
     "end_time": "2024-09-05T19:39:32.777684400Z",
     "start_time": "2024-09-05T19:39:32.606259500Z"
    }
   },
   "id": "f0355fb87510f421",
   "execution_count": 28
  },
  {
   "cell_type": "code",
   "outputs": [],
   "source": [
    "# using steming to remove similar works like loved, love , loving into one word love \n",
    "from nltk.stem.porter import PorterStemmer\n",
    "ps = PorterStemmer()"
   ],
   "metadata": {
    "collapsed": false,
    "ExecuteTime": {
     "end_time": "2024-09-05T19:39:35.520603100Z",
     "start_time": "2024-09-05T19:39:32.624652800Z"
    }
   },
   "id": "17e89eec7d151402",
   "execution_count": 29
  },
  {
   "cell_type": "code",
   "outputs": [],
   "source": [
    "def stem(text):\n",
    "    y = []\n",
    "    for i in text.split():\n",
    "        y.append(ps.stem(i))\n",
    "    return \" \".join(y)"
   ],
   "metadata": {
    "collapsed": false,
    "ExecuteTime": {
     "end_time": "2024-09-05T19:39:35.540998200Z",
     "start_time": "2024-09-05T19:39:35.522926500Z"
    }
   },
   "id": "edaa8dbab0bfbbfb",
   "execution_count": 30
  },
  {
   "cell_type": "code",
   "outputs": [
    {
     "name": "stderr",
     "output_type": "stream",
     "text": [
      "C:\\Users\\acer\\AppData\\Local\\Temp\\ipykernel_30136\\1132361295.py:1: SettingWithCopyWarning: \n",
      "A value is trying to be set on a copy of a slice from a DataFrame.\n",
      "Try using .loc[row_indexer,col_indexer] = value instead\n",
      "\n",
      "See the caveats in the documentation: https://pandas.pydata.org/pandas-docs/stable/user_guide/indexing.html#returning-a-view-versus-a-copy\n",
      "  new_df['tags'] = new_df['tags'].apply(stem)\n"
     ]
    }
   ],
   "source": [
    "new_df['tags'] = new_df['tags'].apply(stem)"
   ],
   "metadata": {
    "collapsed": false,
    "ExecuteTime": {
     "end_time": "2024-09-05T19:39:41.536402100Z",
     "start_time": "2024-09-05T19:39:35.529498100Z"
    }
   },
   "id": "e94bcd6ba362a612",
   "execution_count": 31
  },
  {
   "cell_type": "code",
   "outputs": [],
   "source": [
    "from sklearn.feature_extraction.text import CountVectorizer\n",
    "cv = CountVectorizer(max_features=5000, stop_words='english')"
   ],
   "metadata": {
    "collapsed": false,
    "ExecuteTime": {
     "end_time": "2024-09-05T19:39:41.543539500Z",
     "start_time": "2024-09-05T19:39:41.533313700Z"
    }
   },
   "id": "75e1d0f50ee9081b",
   "execution_count": 32
  },
  {
   "cell_type": "code",
   "outputs": [],
   "source": [
    "vectors = cv.fit_transform(new_df['tags']).toarray()"
   ],
   "metadata": {
    "collapsed": false,
    "ExecuteTime": {
     "end_time": "2024-09-05T19:39:41.987262400Z",
     "start_time": "2024-09-05T19:39:41.539669200Z"
    }
   },
   "id": "943abd35029d45cb",
   "execution_count": 33
  },
  {
   "cell_type": "code",
   "outputs": [],
   "source": [],
   "metadata": {
    "collapsed": false,
    "ExecuteTime": {
     "end_time": "2024-09-05T19:39:41.991143900Z",
     "start_time": "2024-09-05T19:39:41.988696200Z"
    }
   },
   "id": "89ae1696d886cfc3",
   "execution_count": 33
  },
  {
   "cell_type": "code",
   "outputs": [],
   "source": [
    "# to find cosign distance from every vector of a vector \n",
    "from sklearn.metrics.pairwise import cosine_similarity"
   ],
   "metadata": {
    "collapsed": false,
    "ExecuteTime": {
     "end_time": "2024-09-05T19:39:42.016427200Z",
     "start_time": "2024-09-05T19:39:41.993472200Z"
    }
   },
   "id": "bffd400f19c6cefe",
   "execution_count": 34
  },
  {
   "cell_type": "code",
   "outputs": [],
   "source": [
    "similarity = cosine_similarity(vectors)"
   ],
   "metadata": {
    "collapsed": false,
    "ExecuteTime": {
     "end_time": "2024-09-05T19:39:43.428507700Z",
     "start_time": "2024-09-05T19:39:42.004553300Z"
    }
   },
   "id": "4d2298100ecbc2a1",
   "execution_count": 35
  },
  {
   "cell_type": "code",
   "outputs": [
    {
     "data": {
      "text/plain": "array([1.        , 0.08346223, 0.0860309 , ..., 0.04499213, 0.        ,\n       0.        ])"
     },
     "execution_count": 36,
     "metadata": {},
     "output_type": "execute_result"
    }
   ],
   "source": [
    "similarity[0]"
   ],
   "metadata": {
    "collapsed": false,
    "ExecuteTime": {
     "end_time": "2024-09-05T19:39:43.488580500Z",
     "start_time": "2024-09-05T19:39:43.430782700Z"
    }
   },
   "id": "e35633045398c7c5",
   "execution_count": 36
  },
  {
   "cell_type": "code",
   "outputs": [],
   "source": [
    "def recommend(movie):\n",
    "    movie_index = new_df[new_df['title'] == movie].index[0]\n",
    "    distance = similarity[movie_index]\n",
    "    movies_list = sorted(list(enumerate(distance)), key=lambda x:x[1], reverse=True)[1:6]\n",
    "    \n",
    "    return [new_df.iloc[i[0]].title for i in movies_list]"
   ],
   "metadata": {
    "collapsed": false,
    "ExecuteTime": {
     "end_time": "2024-09-05T19:40:44.388286100Z",
     "start_time": "2024-09-05T19:40:44.340226500Z"
    }
   },
   "id": "d2346a4e4a3be483",
   "execution_count": 41
  },
  {
   "cell_type": "code",
   "outputs": [
    {
     "data": {
      "text/plain": "['The Dark Knight', 'Batman', 'Batman', 'The Dark Knight Rises', '10th & Wolf']"
     },
     "execution_count": 42,
     "metadata": {},
     "output_type": "execute_result"
    }
   ],
   "source": [
    "recommend('Batman Begins')"
   ],
   "metadata": {
    "collapsed": false,
    "ExecuteTime": {
     "end_time": "2024-09-05T19:40:45.239317600Z",
     "start_time": "2024-09-05T19:40:45.208568500Z"
    }
   },
   "id": "ca8af58d1f7be13b",
   "execution_count": 42
  },
  {
   "cell_type": "code",
   "outputs": [],
   "source": [
    "import pickle"
   ],
   "metadata": {
    "collapsed": false,
    "ExecuteTime": {
     "end_time": "2024-09-05T19:39:43.705931300Z",
     "start_time": "2024-09-05T19:39:43.474114900Z"
    }
   },
   "id": "9cd6347b3aa22d4",
   "execution_count": 39
  },
  {
   "cell_type": "code",
   "outputs": [],
   "source": [
    "with open('movie_data.pkl', 'wb') as f:\n",
    "    pickle.dump(new_df, f)"
   ],
   "metadata": {
    "collapsed": false,
    "ExecuteTime": {
     "end_time": "2024-09-05T19:39:43.989312900Z",
     "start_time": "2024-09-05T19:39:43.481883700Z"
    }
   },
   "id": "48603b2025a155e1",
   "execution_count": 40
  },
  {
   "cell_type": "code",
   "outputs": [],
   "source": [
    "with open('recommendation_function.pkl', 'wb') as f:\n",
    "    pickle.dump(recommend, f)"
   ],
   "metadata": {
    "collapsed": false,
    "ExecuteTime": {
     "end_time": "2024-09-05T19:41:04.777143800Z",
     "start_time": "2024-09-05T19:41:04.722267100Z"
    }
   },
   "id": "4adffee4fa07e8b",
   "execution_count": 43
  },
  {
   "cell_type": "code",
   "outputs": [],
   "source": [
    "with open('similarity_matrix.pkl', 'wb') as f:\n",
    "    pickle.dump(similarity, f)"
   ],
   "metadata": {
    "collapsed": false,
    "ExecuteTime": {
     "end_time": "2024-09-05T19:58:22.373146500Z",
     "start_time": "2024-09-05T19:58:19.829398600Z"
    }
   },
   "id": "5d5769f72107530",
   "execution_count": 44
  },
  {
   "cell_type": "code",
   "outputs": [],
   "source": [],
   "metadata": {
    "collapsed": false
   },
   "id": "dab6632121194ced"
  }
 ],
 "metadata": {
  "kernelspec": {
   "display_name": "Python 3",
   "language": "python",
   "name": "python3"
  },
  "language_info": {
   "codemirror_mode": {
    "name": "ipython",
    "version": 2
   },
   "file_extension": ".py",
   "mimetype": "text/x-python",
   "name": "python",
   "nbconvert_exporter": "python",
   "pygments_lexer": "ipython2",
   "version": "2.7.6"
  }
 },
 "nbformat": 4,
 "nbformat_minor": 5
}
